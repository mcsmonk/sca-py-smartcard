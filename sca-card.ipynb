{
 "cells": [
  {
   "cell_type": "markdown",
   "metadata": {},
   "source": [
    "# SCA on smart card\n",
    "## CNT 2019.09"
   ]
  },
  {
   "cell_type": "code",
   "execution_count": 1,
   "metadata": {},
   "outputs": [],
   "source": [
    "from scasc import scasc\n",
    "from lecroysocket import LeCroyScope\n",
    "import numpy as np\n",
    "import matplotlib.pyplot as plt"
   ]
  },
  {
   "cell_type": "code",
   "execution_count": 2,
   "metadata": {},
   "outputs": [],
   "source": [
    "ip = '163.152.90.101'\n",
    "timeout = 5"
   ]
  },
  {
   "cell_type": "code",
   "execution_count": 3,
   "metadata": {},
   "outputs": [],
   "source": [
    "APDU_selectDF = [0x00, 0xA4, 0x04, 0x00, 0x0D, 0xF0, 0x4B, 0x45, 0x59, 0x50, 0x41, 0x49, 0x52, 0x20, 0x43, 0x4E, 0x54, 0x43]\n",
    "APDU_getResponse_selectDF = [0x00, 0xC0, 0x00, 0x00, 0x0A]\n",
    "APDU_CtrDrbgClearInternalState = [0x80, 0xBB, 0x00, 0x05, 0x00]\n",
    "APDU_CtrDrbgInstantiate = [0x80, 0xAA, 0x00, 0x06, 0x04, 0x00, 0x00, 0x00, 0x00]\n",
    "APDU_CtrDrbgReseed = [0x80, 0xAA, 0x00, 0x07, 0x04, 0x00, 0x00, 0x00, 0x00]\n",
    "APDU_EcdhKeytokenGen = [0x80, 0xAA, 0x00, 0x1D, 0x06, 0xFF, 0xFF, 0xFF, 0xFF, 0xFF, 0xFF]\n",
    "APDU_readBinary_0x60 = [0x00, 0xB0, 0x00, 0x00, 0x60]\n",
    "APDU_updateBinary_0x60 = [0x00, 0xD6, 0x00, 0x00, 0x60]\n",
    "APDU_EcdhSesKeyGen = [0x80, 0xAA, 0x00, 0x1E, 0x0A, 0xFF, 0xFF, 0xFF, 0xFF, 0xFF, 0xFF, 0xFF, 0xFF, 0xFF, 0xFF]\n",
    "APDU_readBinary_0x40 = [0x00, 0xB0, 0x00, 0x00, 0x60]"
   ]
  },
  {
   "cell_type": "code",
   "execution_count": 4,
   "metadata": {},
   "outputs": [
    {
     "name": "stdout",
     "output_type": "stream",
     "text": [
      "sc readers:\n",
      " 0 : Gemplus USB Smart Card Reader 0\n",
      "Enter number of reader for connection : 0\n"
     ]
    }
   ],
   "source": [
    "sc = scasc()\n",
    "sc.set_sc_reader()"
   ]
  },
  {
   "cell_type": "code",
   "execution_count": 6,
   "metadata": {},
   "outputs": [],
   "source": [
    "sc.connect()"
   ]
  },
  {
   "cell_type": "code",
   "execution_count": 7,
   "metadata": {},
   "outputs": [
    {
     "name": "stdout",
     "output_type": "stream",
     "text": [
      "ATR :  ['3B', '90', 'B7', '80', '1F', '07', 'BF']\n"
     ]
    }
   ],
   "source": [
    "# ATR(Warm): 3B9137801F03576D\n",
    "# ATR(Cold): 3B90B7801F07BF\n",
    "sc.print_ATR()"
   ]
  },
  {
   "cell_type": "markdown",
   "metadata": {},
   "source": [
    "### selectDF"
   ]
  },
  {
   "cell_type": "code",
   "execution_count": 8,
   "metadata": {},
   "outputs": [
    {
     "name": "stdout",
     "output_type": "stream",
     "text": [
      ">> 00A404000D F04B45595041495220434E5443\n",
      ">> 610A\n"
     ]
    }
   ],
   "source": [
    "data, sw1, sw2 = sc.send_APDU_lc(APDU_selectDF)"
   ]
  },
  {
   "cell_type": "code",
   "execution_count": 9,
   "metadata": {},
   "outputs": [
    {
     "name": "stdout",
     "output_type": "stream",
     "text": [
      ">> 00C000000A \n",
      ">> 6F088201388503015000 9000\n"
     ]
    }
   ],
   "source": [
    "data, sw1, sw2 = sc.send_APDU_le(APDU_getResponse_selectDF)"
   ]
  },
  {
   "cell_type": "code",
   "execution_count": 10,
   "metadata": {},
   "outputs": [
    {
     "name": "stdout",
     "output_type": "stream",
     "text": [
      ">> 80AA000604 00000000\n",
      ">> 9000\n"
     ]
    }
   ],
   "source": [
    "data, sw1, sw2 = sc.send_APDU_lc(APDU_CtrDrbgInstantiate)"
   ]
  },
  {
   "cell_type": "code",
   "execution_count": 11,
   "metadata": {},
   "outputs": [
    {
     "name": "stdout",
     "output_type": "stream",
     "text": [
      ">> 80AA001D06 FFFFFFFFFFFF\n",
      ">> 9000\n"
     ]
    }
   ],
   "source": [
    "data, sw1, sw2 = sc.send_APDU_lc(APDU_EcdhKeytokenGen)"
   ]
  },
  {
   "cell_type": "code",
   "execution_count": 12,
   "metadata": {
    "scrolled": true
   },
   "outputs": [
    {
     "name": "stdout",
     "output_type": "stream",
     "text": [
      ">> 00B0000060 \n",
      ">> 79D05E83C720FD91EB48C2A9488DAA2923C8C401404DFBF02CDEFD0A11DBFE749C6EF05E5D2C23314E644A538DEA3BD0CF5BA45B795C816CA360DDAF5482E86D5D540C1FAB6D5415C4953C29CCBEE021E973D12EC9AB6C96AE494F5F6F9F5A25 9000\n"
     ]
    }
   ],
   "source": [
    "data, sw1, sw2 = sc.send_APDU_le(APDU_readBinary_0x60)"
   ]
  },
  {
   "cell_type": "code",
   "execution_count": 13,
   "metadata": {},
   "outputs": [],
   "source": [
    "pubKeytokenX = data[0:32]\n",
    "pubKeytokenY = data[32:64]\n",
    "priKey = data[64:]"
   ]
  },
  {
   "cell_type": "code",
   "execution_count": 14,
   "metadata": {},
   "outputs": [
    {
     "name": "stdout",
     "output_type": "stream",
     "text": [
      "79D05E83C720FD91EB48C2A9488DAA2923C8C401404DFBF02CDEFD0A11DBFE74\n",
      "9C6EF05E5D2C23314E644A538DEA3BD0CF5BA45B795C816CA360DDAF5482E86D\n",
      "5D540C1FAB6D5415C4953C29CCBEE021E973D12EC9AB6C96AE494F5F6F9F5A25\n"
     ]
    }
   ],
   "source": [
    "print(''.join(['%02X' % i for i in pubKeytokenX]))\n",
    "print(''.join(['%02X' % i for i in pubKeytokenY]))\n",
    "print(''.join(['%02X' % i for i in priKey]))"
   ]
  },
  {
   "cell_type": "code",
   "execution_count": 15,
   "metadata": {},
   "outputs": [
    {
     "name": "stdout",
     "output_type": "stream",
     "text": [
      ">> 00D6000060 79D05E83C720FD91EB48C2A9488DAA2923C8C401404DFBF02CDEFD0A11DBFE749C6EF05E5D2C23314E644A538DEA3BD0CF5BA45B795C816CA360DDAF5482E86D5D540C1FAB6D5415C4953C29CCBEE021E973D12EC9AB6C96AE494F5F6F9F5A25\n",
      ">> 9000\n"
     ]
    }
   ],
   "source": [
    "data, sw1, sw2 = sc.send_APDU_lc(APDU_updateBinary_0x60 + pubKeytokenX + pubKeytokenY + priKey)"
   ]
  },
  {
   "cell_type": "code",
   "execution_count": 16,
   "metadata": {},
   "outputs": [
    {
     "name": "stdout",
     "output_type": "stream",
     "text": [
      ">> 80AA001E0A FFFFFFFFFFFFFFFFFFFF\n",
      ">> 9000\n"
     ]
    }
   ],
   "source": [
    "data, sw1, sw2 = sc.send_APDU_lc(APDU_EcdhSesKeyGen)"
   ]
  },
  {
   "cell_type": "code",
   "execution_count": 17,
   "metadata": {},
   "outputs": [],
   "source": [
    "dso = LeCroyScope(ip, timeout=timeout)"
   ]
  },
  {
   "cell_type": "code",
   "execution_count": 18,
   "metadata": {},
   "outputs": [
    {
     "name": "stdout",
     "output_type": "stream",
     "text": [
      "settings\n",
      "TIME_DIV : TDIV 50E-3 S\n",
      "COMM_FORMAT : CFMT DEF9,BYTE,BIN\n",
      "COMM_HEADER : CHDR SHORT\n",
      "COMM_ORDER : CORD LO\n",
      "TRIG_DELAY : TRDL -155E-3 S\n",
      "TRIG_SELECT : TRSE EDGE,SR,C3,HT,OFF\n",
      "TRIG_MODE : TRMD NORM\n",
      "TRIG_PATTERN : TRPA STATE,NAND\n",
      "SEQUENCE : SEQ OFF,10,5E+6 SAMPLE\n",
      "C1:COUPLING : C1:CPL D1M\n",
      "C2:COUPLING : C2:CPL D1M\n",
      "C3:COUPLING : C3:CPL D1M\n",
      "C4:COUPLING : C4:CPL D1M\n",
      "C1:VOLT_DIV : C1:VDIV 5E-3 V\n",
      "C2:VOLT_DIV : C2:VDIV 112E-3 V\n",
      "C3:VOLT_DIV : C3:VDIV 2 V\n",
      "C4:VOLT_DIV : C4:VDIV 200E-3 V\n",
      "C1:OFFSET : C1:OFST 100E-6 V\n",
      "C2:OFFSET : C2:OFST -446E-3 V\n",
      "C3:OFFSET : C3:OFST 900E-3 V\n",
      "C4:OFFSET : C4:OFST -5E-3 V\n",
      "C1:TRIG_COUPLING : C1:TRCP DC\n",
      "C2:TRIG_COUPLING : C2:TRCP DC\n",
      "C3:TRIG_COUPLING : C3:TRCP DC\n",
      "C4:TRIG_COUPLING : C4:TRCP AC\n",
      "C1:TRIG_LEVEL : C1:TRLV -50E-6 V\n",
      "C2:TRIG_LEVEL : C2:TRLV 0E-3 V\n",
      "C3:TRIG_LEVEL : C3:TRLV 1.54 V\n",
      "C4:TRIG_LEVEL : C4:TRLV 6E-3 V\n",
      "C1:TRIG_SLOPE : C1:TRSL POS\n",
      "C2:TRIG_SLOPE : C2:TRSL POS\n",
      "C3:TRIG_SLOPE : C3:TRSL NEG\n",
      "C4:TRIG_SLOPE : C4:TRSL POS\n",
      "C1:TRACE : C1:TRA OFF\n",
      "C2:TRACE : C2:TRA ON\n",
      "C3:TRACE : C3:TRA ON\n",
      "C4:TRACE : C4:TRA OFF\n",
      "[2, 3]\n"
     ]
    }
   ],
   "source": [
    "dso.clear()\n",
    "settings = dso.get_settings()\n",
    "#print(settings)\n",
    "print('settings')\n",
    "for k in settings.keys():\n",
    "    print(k, ':', settings[k])\n",
    "channels = dso.get_channels()\n",
    "print(channels)"
   ]
  },
  {
   "cell_type": "code",
   "execution_count": 19,
   "metadata": {
    "scrolled": true
   },
   "outputs": [
    {
     "data": {
      "image/png": "[encoded data removed]",
      "text/plain": [
       "<Figure size 432x288 with 1 Axes>"
      ]
     },
     "metadata": {
      "needs_background": "light"
     },
     "output_type": "display_data"
    }
   ],
   "source": [
    "desc2, rw2 = dso.get_waveform(2)\n",
    "desc3, rw3 = dso.get_waveform(3)\n",
    "\n",
    "plt.plot(rw2)\n",
    "plt.plot(rw3)\n",
    "plt.show()"
   ]
  },
  {
   "cell_type": "code",
   "execution_count": 20,
   "metadata": {},
   "outputs": [],
   "source": [
    "np.save('trace_1_tr', rw2)\n",
    "np.save('trace_1_trig', rw3)"
   ]
  },
  {
   "cell_type": "code",
   "execution_count": 21,
   "metadata": {},
   "outputs": [
    {
     "name": "stdout",
     "output_type": "stream",
     "text": [
      ">> 80AA001E0A FFFFFFFFFFFFFFFFFFFF\n",
      ">> 9000\n"
     ]
    }
   ],
   "source": [
    "data, sw1, sw2 = sc.send_APDU_lc(APDU_EcdhSesKeyGen)"
   ]
  },
  {
   "cell_type": "code",
   "execution_count": 22,
   "metadata": {
    "scrolled": true
   },
   "outputs": [
    {
     "data": {
      "image/png": "[encoded data removed]",
      "text/plain": [
       "<Figure size 432x288 with 1 Axes>"
      ]
     },
     "metadata": {
      "needs_background": "light"
     },
     "output_type": "display_data"
    }
   ],
   "source": [
    "desc2, rw2 = dso.get_waveform(2)\n",
    "\n",
    "plt.plot(rw2)\n",
    "plt.show()"
   ]
  },
  {
   "cell_type": "code",
   "execution_count": 23,
   "metadata": {},
   "outputs": [],
   "source": [
    "del dso\n",
    "sc.disconnect()"
   ]
  },
  {
   "cell_type": "code",
   "execution_count": null,
   "metadata": {},
   "outputs": [],
   "source": []
  }
 ],
 "metadata": {
  "kernelspec": {
   "display_name": "Python 3",
   "language": "python",
   "name": "python3"
  },
  "language_info": {
   "codemirror_mode": {
    "name": "ipython",
    "version": 3
   },
   "file_extension": ".py",
   "mimetype": "text/x-python",
   "name": "python",
   "nbconvert_exporter": "python",
   "pygments_lexer": "ipython3",
   "version": "3.7.4"
  }
 },
 "nbformat": 4,
 "nbformat_minor": 2
}
